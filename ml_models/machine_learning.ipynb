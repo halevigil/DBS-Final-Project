{
 "cells": [
  {
   "cell_type": "code",
   "execution_count": 26,
   "metadata": {},
   "outputs": [],
   "source": [
    "import numpy as np\n",
    "import pandas as pd\n",
    "from sklearn import preprocessing\n",
    "import sklearn.linear_model\n",
    "from matplotlib import pyplot as plt\n",
    "from sklearn.impute import SimpleImputer\n",
    "from pickle import dump"
   ]
  },
  {
   "cell_type": "code",
   "execution_count": 27,
   "metadata": {},
   "outputs": [],
   "source": [
    "simple_regress = sklearn.linear_model.LinearRegression()\n",
    "diabetes_df = pd.read_csv(\"../datasets/diabetes.csv\",index_col=False)\n",
    "simple_regress.fit(diabetes_df[[\"age\"]],diabetes_df[[\"diabetes\"]])\n",
    "y_pred=simple_regress.predict(diabetes_df[[\"age\"]])\n",
    "\n",
    "diabetes_model = sklearn.linear_model.LogisticRegression()\n",
    "diabetes_df=diabetes_df.drop(columns=[\"HbA1c_level\",\"blood_glucose_level\",\"smoking_history\"])\n",
    "diabetes_df[\"gender\"]=diabetes_df[\"gender\"].map(lambda x: 1 if x==\"Male\" else 0 if x==\"Female\" else 0.5)\n",
    "cts_cols=[\"age\",\"bmi\"]\n",
    "diabetes_scaler=preprocessing.StandardScaler().fit(diabetes_df[cts_cols])\n",
    "diabetes_df[[\"normalized_\"+var for var in cts_cols]]=diabetes_scaler.transform(diabetes_df[cts_cols])\n",
    "diabetes_df.drop(columns=cts_cols,inplace=True)\n",
    "diabetes_x=diabetes_df[[col for col in diabetes_df.columns if col!=\"diabetes\"]]\n",
    "diabetes_y=diabetes_df[\"diabetes\"]\n",
    "diabetes_x.to_csv(\"../datasets/post-processing/diabetes.csv\",index=False)\n",
    "diabetes_model=diabetes_model.fit(diabetes_x,diabetes_y)\n",
    "with open(\"diabetes_model.pkl\",\"wb\") as f:\n",
    "    dump(diabetes_model,f,protocol=5)"
   ]
  },
  {
   "cell_type": "code",
   "execution_count": 28,
   "metadata": {},
   "outputs": [],
   "source": [
    "heart_model = sklearn.linear_model.LogisticRegression()\n",
    "heart_df = pd.read_csv(\"../datasets/heart_disease.csv\",index_col=False)\n",
    "heart_df.drop(columns=[\"SleepTime\", \"GenHealth\",\"PhysicalHealth\",\"MentalHealth\",\"PhysicalActivity\",\"Race\",\"SkinCancer\",\"Diabetic\",\"DiffWalking\",\"KidneyDisease\"],inplace=True)\n",
    "cts_cols=[]\n",
    "binary_cols=[]\n",
    "for col in heart_df.columns:\n",
    "    if type(heart_df[col].iloc[0])==np.float64:\n",
    "        cts_cols.append(col)\n",
    "    elif set(heart_df[col].unique())==set([\"Yes\",\"No\"]):\n",
    "        heart_df[col]=heart_df[col].map(lambda x: 1 if x==\"Yes\" else 0)\n",
    "heart_df[\"Sex\"]=heart_df[\"Sex\"].map(lambda x: 1 if x==\"Male\" else 0)\n",
    "age_map={'18-24':21,'25-29':27,'30-34':32,'35-39':37,'40-44':42,'45-49':47,'50-54':52,'55-59':57, '60-64':62 ,'65-69':67,'70-74':72,'75-79':77,'80 or older':84}\n",
    "heart_df[\"Age\"]=heart_df[\"AgeCategory\"].map(lambda x: age_map[x])\n",
    "cts_cols.append(\"Age\")\n",
    "heart_df.drop(columns=[\"AgeCategory\"],inplace=True)\n",
    "heart_scaler = preprocessing.StandardScaler().fit(heart_df[cts_cols])\n",
    "heart_df[[\"normalized_\"+var for var in cts_cols]]=heart_scaler.transform(heart_df[cts_cols])\n",
    "heart_df.drop(columns=cts_cols,inplace=True)\n",
    "\n",
    "\n",
    "heart_x=heart_df[[col for col in heart_df.columns if col!=\"HeartDisease\"]]\n",
    "heart_x.to_csv(\"../datasets/post-processing/heart.csv\",index=False)\n",
    "heart_y=heart_df[\"HeartDisease\"]\n",
    "heart_model.fit(heart_x,heart_y)\n",
    "with open(\"heart_model.pkl\",\"wb\") as f:\n",
    "    dump(heart_model,f,protocol=5)"
   ]
  },
  {
   "cell_type": "code",
   "execution_count": 29,
   "metadata": {},
   "outputs": [],
   "source": [
    "stroke_model = sklearn.linear_model.LogisticRegression()\n",
    "stroke_df = pd.read_csv(\"../datasets/stroke.csv\",index_col=False)\n",
    "\n",
    "stroke_df.drop(columns=[\"id\", \"work_type\",\"ever_married\",\"Residence_type\"],inplace=True)\n",
    "stroke_df[\"gender\"]=stroke_df[\"gender\"].map(lambda x: 0 if x==\"Female\" else 1 if x==\"Male\" else 0.5)\n",
    "cts_cols=[\"avg_glucose_level\",\"bmi\",\"age\"]\n",
    "\n",
    "stroke_scaler=preprocessing.StandardScaler().fit(stroke_df[cts_cols])\n",
    "stroke_df[[\"normalized_\"+var for var in cts_cols]]=stroke_scaler.transform(stroke_df[cts_cols])\n",
    "stroke_df.drop(columns=cts_cols,inplace=True)\n",
    "stroke_df[\"ever_smoked\"]=stroke_df[\"smoking_status\"].map(lambda x: np.nan if x=='Unknown' else 1 if x==\"smokes\" or x==\"formerly smokes\" else 0)\n",
    "stroke_df[\"current_smoker\"]=stroke_df[\"smoking_status\"].map(lambda x: np.nan if x=='Unknown' else 1 if x==\"smokes\" else 0)\n",
    "stroke_df.drop(columns=[\"smoking_status\"], inplace=True)\n",
    "stroke_df[:]=SimpleImputer(missing_values=np.nan, strategy='mean').fit_transform(stroke_df)\n",
    "stroke_x=stroke_df[[col for col in stroke_df.columns if col!=\"stroke\"]]\n",
    "stroke_x.to_csv(\"../datasets/post-processing/stroke.csv\",index=False)\n",
    "stroke_y=stroke_df[\"stroke\"]\n",
    "stroke_model.fit(stroke_x,stroke_y)\n",
    "with open(\"stroke_model.pkl\",\"wb\") as f:\n",
    "    dump(stroke_model,f,protocol=5)\n"
   ]
  },
  {
   "cell_type": "code",
   "execution_count": 30,
   "metadata": {},
   "outputs": [],
   "source": [
    "alzheimers_model = sklearn.linear_model.LogisticRegression()\n",
    "alzheimers_df = pd.read_csv(\"../datasets/alzheimers.csv\",index_col=False)\n",
    "alzheimers_df=alzheimers_df[[\"Diagnosis\",\"Age\",\"SystolicBP\",\"DiastolicBP\",\"CholesterolTotal\"]]\n",
    "cts_cols = [\"Age\",\"SystolicBP\",\"DiastolicBP\",\"CholesterolTotal\"]\n",
    "alzheimers_scaler=preprocessing.StandardScaler().fit(alzheimers_df[cts_cols])\n",
    "alzheimers_df[[\"normalized_\"+var for var in cts_cols]]=alzheimers_scaler.transform(alzheimers_df[cts_cols])\n",
    "alzheimers_df.drop(columns=cts_cols,inplace=True)\n",
    "alzheimers_x=alzheimers_df[[col for col in alzheimers_df.columns if col!=\"Diagnosis\"]]\n",
    "alzheimers_x.to_csv(\"../datasets/post-processing/alzheimers.csv\",index=False)\n",
    "# display(alzheimers_x)\n",
    "alzheimers_y=alzheimers_df[\"Diagnosis\"]\n",
    "alzheimers_model.fit(alzheimers_x,alzheimers_y)\n",
    "with open(\"alzheimers_model.pkl\",\"wb\") as f:\n",
    "    dump(alzheimers_model,f,protocol=5)"
   ]
  }
 ],
 "metadata": {
  "kernelspec": {
   "display_name": "database_project",
   "language": "python",
   "name": "python3"
  },
  "language_info": {
   "codemirror_mode": {
    "name": "ipython",
    "version": 3
   },
   "file_extension": ".py",
   "mimetype": "text/x-python",
   "name": "python",
   "nbconvert_exporter": "python",
   "pygments_lexer": "ipython3",
   "version": "3.12.4"
  }
 },
 "nbformat": 4,
 "nbformat_minor": 2
}
